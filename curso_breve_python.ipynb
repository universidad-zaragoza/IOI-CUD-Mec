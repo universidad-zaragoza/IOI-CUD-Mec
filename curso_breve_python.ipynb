{
 "cells": [
  {
   "cell_type": "markdown",
   "metadata": {
    "id": "GPtNufGUvOY1",
    "tags": []
   },
   "source": [
    " Introducción al lenguaje python mediante jupyter.\n",
    " ---\n",
    "0. [Trucos y recomendaciones](#trucos)\n",
    "1. [Variables](#variables)\n",
    "2. [Operadores](#operadores)   \n",
    "3. [Cadenas de caracteres](#cadenacaracteres)\n",
    "4. [Controles de flujo: condicionales e iterativos](#flujo)\n",
    "    1. [Controles condicionales:; if](#Condicionales)\n",
    "    2. [Controles iterativos: for y while](#Iteraciones)\n",
    "5. [Estructuras de datos: tuplas, listas, conjuntos y diccionarios](#tipos)\n",
    "6. [Funciones](#funciones)\n",
    "7. [Bibliotecas](#bibliotecas)\n",
    "    1. [Trabajar con vectores y matrices: numpy](#numpy)\n",
    "    2. [Representación gráfica: matplotlib](#matplotlib)    \n",
    " ---\n",
    " &emsp; Esta introducción está basada en otra similar que se preparó para la asignatura \"Resistencia de Materiales\" del Grado en Ingeniería de Organización Industrial impartido por el CUD de Zaragoza, como parte del proyecto de innovación docente <b>Programación numérica mediante Python como herramienta de aprendizaje en la asignatura de Resistencia de Materiale</b> con ID=229 en la convocatoria de 2021 del programa PIIDUZ y consultable en https://github.com/universidad-zaragoza/rmat_python/tree/main/ dentro del enlace \"tema 0\". <br>\n",
    " &emsp; Las modificaciones que se han hecho: inclusión de conjuntos y diccionarios, explicaciones y comentarios, acceso a variables dentro de una función, ... son responsabilidad de los profesores de la asignatura de \"Mecánica\" del mismo Grado y Centro y se basan en documentación disponible en línea sobre <i>Python</i>:\n",
    "\n",
    " https://docs.python.org/3/tutorial/<br>\n",
    " https://www.w3schools.com/python/<br>\n",
    " https://www.programiz.com/python-programming"
   ]
  },
  {
   "cell_type": "markdown",
   "metadata": {
    "id": "sIJfZFMLvOY7"
   },
   "source": [
    "# TRUCOS <a name=\"trucos\"></a>\n",
    "\n",
    "- En ocasiones jupyter deja de funcionar correctamente. La solución más aconsejable es ir a Kernel y seguir la secuencia: Restart, Reconnect y Shutdown. Si el problema se resuelve con Restart parar. Sino pasar a Reconnect etc.\n",
    "\n",
    "\n",
    "- Para trabajar con jupyter en una carpeta dada:\n",
    "    - Abrir una línea de comandos (ejecutable cmd.exe)\n",
    "    - Escribir: cd \"ruta completa de la carpeta donde estén los guiones\"\n",
    "    - Escribir: jupyter lab\n",
    "    - Puede ahorrarse el segundo paso si se escribe: jupyter lab --notebook-dir \"ruta completa de la carpeta donde estén los guiones\"\n",
    "\n",
    "- Para trabajr con jupyter en la carpeta por defecto:\n",
    "    - Pulsar el icono de acceso directo a jupyter-lab en el escritorio.\n",
    "    - Para cambiar la carpeta por defecto. Pulsar con el botón izquierdo sobre el icono y editar en la pestaña \"Acceso directo\", la opción \"Iniciar en:\" que contiene la ruta completa a la carpeta por defecto."
   ]
  },
  {
   "cell_type": "markdown",
   "metadata": {
    "id": "-lXQV4x-vOY-"
   },
   "source": [
    "# Variables <a name=\"variables\"></a>\n",
    "\n",
    "&emsp; Son etiquetas que sirven para identificar en un programa las posiciones de la memoria donde se han almacenanado los datos con los que se trabajará y permiten tanto acceder a ellos como modificarlos. En el nombre de una variable, <i> Python </i> distingue entre mayúsculas y minúsculas, <i> A </i> es distinta de <i> a </i>."
   ]
  },
  {
   "cell_type": "code",
   "execution_count": 1,
   "metadata": {
    "colab": {
     "base_uri": "https://localhost:8080/"
    },
    "executionInfo": {
     "elapsed": 254,
     "status": "ok",
     "timestamp": 1690547857847,
     "user": {
      "displayName": "Juan Pablo Hierro Alvarez",
      "userId": "16986139430696611049"
     },
     "user_tz": -120
    },
    "id": "m1XwCr-CvOY-",
    "outputId": "d117b0a9-5320-4bd9-be2b-e111fa21aa3c"
   },
   "outputs": [
    {
     "name": "stdout",
     "output_type": "stream",
     "text": [
      "42 3.1416 3.14 (3+7j) Ejemplo de cadena de caracteres  True\n",
      "<class 'int'>\n",
      "<class 'float'>\n",
      "<class 'float'>\n",
      "<class 'complex'>\n",
      "<class 'str'>\n",
      "<class 'bool'>\n"
     ]
    }
   ],
   "source": [
    "a = 42        #entero\n",
    "b = 3.1416    #real\n",
    "bexp = 3.14e0 #exponencial\n",
    "c = 3+7j      #complejo\n",
    "d = \"Ejemplo de cadena de caracteres \" # Cadena de caracteres, podría haberse definido exactamente igual con comillas simples: ' al principio y al final.\n",
    "e = True      #lógica o booleana. Sólo admite dos valores: True o False.\n",
    "\n",
    "#Imprimir por pantalla\n",
    "print (a,b,bexp,c,d,e)\n",
    "\n",
    "#Tipos de variables\n",
    "print (type(a))\n",
    "print (type(b))\n",
    "print (type(bexp))\n",
    "print (type(c))\n",
    "print (type(d))\n",
    "print (type(e))"
   ]
  },
  {
   "cell_type": "markdown",
   "metadata": {
    "id": "yhhMDzegvOZA"
   },
   "source": [
    "# Operadores <a name=\"operadores\"></a>\n",
    "\n",
    "&emsp; Realizan operaciones sobre variables."
   ]
  },
  {
   "cell_type": "code",
   "execution_count": 2,
   "metadata": {
    "colab": {
     "base_uri": "https://localhost:8080/"
    },
    "executionInfo": {
     "elapsed": 556,
     "status": "ok",
     "timestamp": 1690547858659,
     "user": {
      "displayName": "Juan Pablo Hierro Alvarez",
      "userId": "16986139430696611049"
     },
     "user_tz": -120
    },
    "id": "jzNyNyzPvOZB",
    "outputId": "38e590b1-f343-4a67-bf00-4b105f24a7d4"
   },
   "outputs": [
    {
     "name": "stdout",
     "output_type": "stream",
     "text": [
      "a= 7.0 b= 5.0\n",
      "Operadores aritméticos\n",
      "a+b= 12.0\n",
      "a-b= 2.0\n",
      "a*b= 35.0\n",
      "a/b= 1.4\n",
      "División entera a/b= 1.0\n",
      "a^b= 16807.0\n",
      "a modulo b 2.0\n",
      "\n",
      "a= 7.0 b= 5.0\n",
      "Operadores de comparación\n",
      "a==b False\n",
      "a!=b True\n",
      "a>b True\n",
      "a<b False\n",
      "a>=b True\n",
      "a<=b False\n",
      "\n",
      "a= 7.0 b= 5.0\n",
      "Operadores lógicos\n",
      "a>b Y b>1.0 True\n",
      "a<b O b>7.0 False\n",
      "niega(anterior) True\n",
      "\n",
      "a= 7.0 b= 5.0 lista =  [1.0, 2.0, 5.0, 9.0]\n",
      "Operadores de pertenencia\n",
      "a pertenece a lista False\n",
      "b no pertenece a lista False\n"
     ]
    }
   ],
   "source": [
    "a,b=7.0,5.0\n",
    "\n",
    "# Operadores aritméticos.\n",
    "suma=a+b\n",
    "resta=a-b\n",
    "multip=a*b\n",
    "div=a/b\n",
    "div_entera=a//b\n",
    "exp=a**b\n",
    "modulo=a%b # resto de la división\n",
    "\n",
    "print('a=',a,'b=',b)\n",
    "print('Operadores aritméticos')\n",
    "print(\"a+b=\",suma)\n",
    "print(\"a-b=\",resta)\n",
    "print(\"a*b=\",multip)\n",
    "print(\"a/b=\",div)\n",
    "print(\"División entera a/b=\",div_entera)\n",
    "print(\"a^b=\",exp)\n",
    "print(\"a modulo b\", modulo)\n",
    "print(\"\")\n",
    "\n",
    "# Operadores de comparación.\n",
    "igual = a==b\n",
    "distinto = a!=b\n",
    "mayor = a>b\n",
    "menor = a<b\n",
    "mayoroigual = a>=b\n",
    "menoroigual = a<=b\n",
    "\n",
    "print('a=',a,'b=',b)\n",
    "print(\"Operadores de comparación\")\n",
    "print('a==b', igual)\n",
    "print('a!=b', distinto)\n",
    "print('a>b', mayor)\n",
    "print('a<b', menor)\n",
    "print('a>=b', mayoroigual)\n",
    "print('a<=b', menoroigual)\n",
    "print(\"\")\n",
    "\n",
    "# Operadores lógicos.\n",
    "ylogico = a>b and b>1.0\n",
    "ologico = a<b or b>7.0\n",
    "nologico = not(a<b or b>7.0)\n",
    "\n",
    "print('a=',a,'b=',b)\n",
    "print(\"Operadores lógicos\")\n",
    "print(\"a>b Y b>1.0\", ylogico)\n",
    "print(\"a<b O b>7.0\", ologico)\n",
    "print(\"niega(anterior)\", nologico)\n",
    "print(\"\")\n",
    "\n",
    "lista = [1.0, 2.0, 5.0, 9.0] # Más adelante se verá qué tipo de datos representa una lista.\n",
    "#operadorees de pertenencia.\n",
    "pertenece = a in lista\n",
    "nopertenece = b not in lista\n",
    "\n",
    "print(\"a=\", a, \"b=\", b, \"lista = \", lista)\n",
    "print(\"Operadores de pertenencia\")\n",
    "print(\"a pertenece a lista\", a in lista)\n",
    "print(\"b no pertenece a lista\", b not in lista)"
   ]
  },
  {
   "cell_type": "markdown",
   "metadata": {
    "id": "fcOPrV0kvOZF"
   },
   "source": [
    "#  Cadenas de caracteres <a name=\"cadenacaracteres\"></a>\n",
    "\n",
    "&emsp; Son una sucesión de carácteres que se pueden definir encerrándolos tanto entre comillas simples '...', como entre comillas dobles \"...\". Si se quiere representar una comilla dentro de la cadena, debe ir precedida por \\\\."
   ]
  },
  {
   "cell_type": "code",
   "execution_count": 3,
   "metadata": {
    "colab": {
     "base_uri": "https://localhost:8080/"
    },
    "executionInfo": {
     "elapsed": 84,
     "status": "ok",
     "timestamp": 1690547858660,
     "user": {
      "displayName": "Juan Pablo Hierro Alvarez",
      "userId": "16986139430696611049"
     },
     "user_tz": -120
    },
    "id": "riOFC5-XvOZG",
    "outputId": "cb9a137f-782b-48d1-b8a2-df91b77ce8ac"
   },
   "outputs": [
    {
     "name": "stdout",
     "output_type": "stream",
     "text": [
      "Hola\n",
      " \t Este es un ejemplo de cadena de caracteres \n",
      "         Es posible escribir saltos de linea sin necesidad de utilizar los códigos\n",
      "de escape\n",
      "\n",
      "\n",
      "Hola\n",
      "\t Este es un ejemplo de cadena de caracteres \n",
      "  repite  repite  repite   repite  repite  repite \n",
      "\n",
      "\n",
      "\t Para escribir comillas, se usa ' y \".\n"
     ]
    }
   ],
   "source": [
    "a= \"Hola\\n\"\n",
    "b = \"\\t Este es un ejemplo de cadena de caracteres \\n\"\n",
    "c = \"\"\"        Es posible escribir saltos de linea sin necesidad de utilizar los códigos\n",
    "de escape\"\"\"\n",
    "\n",
    "print(a,b,c)\n",
    "print('\\n') # Salto de línea mediante \\n.\n",
    "\n",
    "d= a + b #concatenación\n",
    "e = \" repite \"\n",
    "f = 3*e #repetición\n",
    "g = e*3 #equivale a lo anterior\n",
    "\n",
    "print(d,f,g)\n",
    "\n",
    "z = '\\t Para escribir comillas, se usa \\' y \\\".' # Tabulador mediante \\t.\n",
    "print('\\n')\n",
    "print(z)"
   ]
  },
  {
   "cell_type": "markdown",
   "metadata": {
    "id": "GGaEuvwkvOZI"
   },
   "source": [
    "# Controles de flujo <a name=\"flujo\"></a>\n",
    "\n",
    "* Sentencias condicionales: if-elif-else\n",
    "  \n",
    "* Sentencias iterativas, bucles: for y while.\n",
    "  \n",
    "* Sintaxis: la primera línea que inicia la estructura de control (if, elif, else, for, while) termina con \":\". Las siguientes líneas que se ejecutan dentro de la estructura de control van indentadas. El código controlado termina con la primera línea que no está indentada."
   ]
  },
  {
   "cell_type": "markdown",
   "metadata": {
    "id": "MGatVCJNO1bH"
   },
   "source": [
    "## Condiciones <a name=\"Condicionales\"> </a>\n",
    "\n",
    "* Si (if) se cumple una condición, se ejecutan las líneas que siguen al <i>if</i>. Si no se cumple, pero si se cumple otra (elif), se ejecutan las líneas después del <i>elif</i>. Si no se cumple ninguna condición previa (else), se ejecutan las líneas que vienen a continuación del <i>else</i>.\n",
    "\n",
    "* Las condiciones son variables lógicas (True si se cumplen y False si no se cumplen) que pueden ser el resultado de evaluar alguna comprobación."
   ]
  },
  {
   "cell_type": "code",
   "execution_count": 4,
   "metadata": {
    "colab": {
     "base_uri": "https://localhost:8080/"
    },
    "executionInfo": {
     "elapsed": 74,
     "status": "ok",
     "timestamp": 1690547858660,
     "user": {
      "displayName": "Juan Pablo Hierro Alvarez",
      "userId": "16986139430696611049"
     },
     "user_tz": -120
    },
    "id": "I0iRV8aKvOZK",
    "outputId": "39722975-cbf8-4660-e056-8fb3843fb617"
   },
   "outputs": [
    {
     "name": "stdout",
     "output_type": "stream",
     "text": [
      "Ejemplo 1: usos del if\n",
      "-27.0  es un número negativo.\n",
      "\n",
      "Ejemplo 2: usos del if\n",
      "(37.3+2.1j) Tipo de variable= <class 'complex'>\n",
      "(37.3+2.1j)  no es un número real\n"
     ]
    }
   ],
   "source": [
    "# Usos del if\n",
    "'''\n",
    "Ejemplo: ¿contiene la variable un número negativo?\n",
    "'''\n",
    "print(\"Ejemplo 1: usos del if\")\n",
    "a=-27.0\n",
    "if a<0.0: # Nótese el \":\" al final de la línea.\n",
    "    print(a,\" es un número negativo.\") # Línea indentada, se ejecuta si a<0.0\n",
    "elif a==0: # Nueva orden de control, se ejecuta sólo si no se ha ejecutado el primer \"if\"\n",
    "    print(a,\" es nulo.\") # Línea indentada, se ejecuta si a==0.0\n",
    "else: # Nueva orden de control, se ejecuta si no se ejecutado ningún \"if\" o \"elif\" previo\n",
    "    print(a,\" es un número positivo.\") # Línea indentada, se ejecuta si a>0.0\n",
    "\n",
    "print(\"\") # Línea no indentada, se recupera el flujo previo del programa, la estructura de control termina antes de que se ejecute esta línea.\n",
    "\n",
    "'''\n",
    "Ejemplo: utilizando la función isintance() nos preguntamos si la variable\n",
    "a contiene un número real\n",
    "'''\n",
    "print(\"Ejemplo 2: usos del if\")\n",
    "a=37.3 + 2.1j\n",
    "print(a, \"Tipo de variable=\",type(a))\n",
    "if isinstance(a,float):\n",
    "    print(a,\" es un número real\")\n",
    "else:\n",
    "    print(a,\" no es un número real\")"
   ]
  },
  {
   "cell_type": "markdown",
   "metadata": {
    "id": "p5dZSmTWP84d"
   },
   "source": [
    "## Iteraciones. Bucles. <a name=\"Iteraciones\"> </a>\n",
    "\n",
    "* Bucles <i>for</i>. Para (for) todos los valores que estén en (in) una cierta secuencia, se evalúan las líneas de código que siguen donde se va asignando a una variable de control el valor correspondiente a cada uno de los elementos de la secuencia.\n",
    "\n",
    " - Así, por ejemplo: <i> for i in [1,2,3,4]:</i>, asignaría sucesivamente a la variable <i>i</i> (la variable de control en este ejemplo) los valores <i>1, 2, 3, 4</i> para ejecutar las líneas siguientes de código con el valor correspondiente de <i>i</i> en cada caso.\n",
    "\n",
    "* Bucles <i>while</i>. Mientras (while) se cumpla una condición lógica, que se evalúa al comienzo del bucle, se ejecutan las líneas de código que siguen. Hay que tener cuidado con asegurar que se pueda terminar el bucle para no que el cógido no se quede \"colgado\" ejecutándolo continuamente si la condición se cumple siempre."
   ]
  },
  {
   "cell_type": "code",
   "execution_count": 5,
   "metadata": {
    "colab": {
     "base_uri": "https://localhost:8080/"
    },
    "executionInfo": {
     "elapsed": 68,
     "status": "ok",
     "timestamp": 1690547858661,
     "user": {
      "displayName": "Juan Pablo Hierro Alvarez",
      "userId": "16986139430696611049"
     },
     "user_tz": -120
    },
    "id": "ey8oZ1xSvOZL",
    "outputId": "21e43df0-5880-4960-c9f1-e60b72904f78"
   },
   "outputs": [
    {
     "name": "stdout",
     "output_type": "stream",
     "text": [
      "Ejemplo 1: bucle for\n",
      "De los siguientes números  [-5, -4, -3, -2, -1, 0, 1, 2, 3, 4] se comprueba cuáles son negativos\n",
      "-5  es un número negativo.\n",
      "Se estudiaba:  -5\n",
      "-4  es un número negativo.\n",
      "Se estudiaba:  -4\n",
      "-3  es un número negativo.\n",
      "Se estudiaba:  -3\n",
      "-2  es un número negativo.\n",
      "Se estudiaba:  -2\n",
      "-1  es un número negativo.\n",
      "Se estudiaba:  -1\n",
      "Se estudiaba:  0\n",
      "Se estudiaba:  1\n",
      "Se estudiaba:  2\n",
      "Se estudiaba:  3\n",
      "Se estudiaba:  4\n",
      "\n",
      "Ejemplo 2: bucle for\n",
      "-5  es un número negativo.\n",
      "-4  es un número negativo.\n",
      "-3  es un número negativo.\n",
      "-2  es un número negativo.\n",
      "-1  es un número negativo.\n",
      "\n",
      "Ejemplo 3: bucle for\n",
      "manzana\n",
      "pera\n",
      "gato\n"
     ]
    }
   ],
   "source": [
    "#Bucle for\n",
    "'''\n",
    "Ejemplo: utilizando el método range proporciona una lista de números,\n",
    "comprobamos si un número es postivo o negativo\n",
    "'''\n",
    "print(\"Ejemplo 1: bucle for\")\n",
    "\n",
    "rango=list(range(-5,5)) # Más adelante se verá qué hace el método list.\n",
    "# range(inicio, fin, paso) crea una secuencia de números (convertida a lista en el ejemplo anterior) que empiezan en inicio, se incrementan de paso en paso y termina justo\n",
    "# antes de llegar a fin. Por defecto, paso=1 (si no se indica) e inicio=0 (si no se indica).\n",
    "\n",
    "print(\"De los siguientes números \",rango,\"se comprueba cuáles son negativos\")\n",
    "for a in range(-5,5): # Nótese el \":\" al final de la línea.\n",
    "    if a<0.0: # Estructura de control anidada dentro de otra.\n",
    "        print(a,\" es un número negativo.\")  # Se ejecuta sólo si a<0.0 dentro de un bucle que barre entre -5 y +5 de 1 en uno.\n",
    "    print(\"Se estudiaba: \", a) # Se ejecuta dentro del bucle \"for\", pero no del \"if\", ni del flujo principal.\n",
    "\n",
    "'''\n",
    "Ejemplo: una forma compacta de escribir el mismo loop..\n",
    "'''\n",
    "print(\"\") # Se recupera el flujo principal del programa.\n",
    "print(\"Ejemplo 2: bucle for\")\n",
    "\n",
    "[print(a,\" es un número negativo.\") for a in range(-5,5) if(a < 0.0)]\n",
    "\n",
    "'''\n",
    "Ejemplo: Python permite bucles en cualquier objeto que sea iterable\n",
    "'''\n",
    "print(\"\")\n",
    "print(\"Ejemplo 3: bucle for\")\n",
    "\n",
    "lista = [\"manzana\",\"pera\",\"gato\"] # Más adelante se verá qué tipo de dato representa lista\n",
    "\n",
    "for palabra in lista:\n",
    "    print(palabra)\n"
   ]
  },
  {
   "cell_type": "code",
   "execution_count": 6,
   "metadata": {
    "colab": {
     "base_uri": "https://localhost:8080/"
    },
    "executionInfo": {
     "elapsed": 61,
     "status": "ok",
     "timestamp": 1690547858662,
     "user": {
      "displayName": "Juan Pablo Hierro Alvarez",
      "userId": "16986139430696611049"
     },
     "user_tz": -120
    },
    "id": "pmA3TkTcvOZN",
    "outputId": "54fdf0bf-66ee-4ebb-c61f-d4bdf5afacb1"
   },
   "outputs": [
    {
     "name": "stdout",
     "output_type": "stream",
     "text": [
      "Ejemplo 1: bucle while\n",
      "2\n",
      "4\n",
      "6\n",
      "8\n",
      "10\n",
      "12\n",
      "14\n",
      "16\n",
      "18\n",
      "20\n",
      "\n",
      "Ejempo 2: bucle while\n",
      "2\n",
      "4\n",
      "6\n",
      "8\n",
      "10\n",
      "12\n",
      "14\n",
      "16\n",
      "18\n",
      "20\n"
     ]
    }
   ],
   "source": [
    "# Bucle while\n",
    "'''\n",
    "Ejemplo: Se representan los números pares empezando por 2 hasta llegar al número 20 (incluido).\n",
    "OJO: los bucles while producen fácilmente bucles infinitos. En el ejemplo 1, esto ocurriría si se eliminase\n",
    "la condición de salir del bucle (break) cuando el número se haga mayor que 20. En el ejemplo 2, la condición para\n",
    "terminar se incluye en la definición del bucle mediante un operador lógico.\n",
    "'''\n",
    "print(\"Ejemplo 1: bucle while\")\n",
    "\n",
    "nopar=2\n",
    "while (nopar > 0): # Nótese el \":\" al final de la línea.\n",
    "    print (nopar) # Se ejecuta con el bucle \"while\".\n",
    "    nopar = nopar + 2 # Se ejecuta con el bucle \"while\".\n",
    "    if (nopar > 20): # Estructura de control anidada dentro de otra.\n",
    "        break # Termina el proceso de ejecución del bucle \"padre\" (dentro del que estaba anidado el \"if\"; es decir, el \"while\") y se sigue con el flujo principal.\n",
    "\n",
    "print(\"\")\n",
    "print(\"Ejempo 2: bucle while\")\n",
    "nopar=2\n",
    "while (nopar > 0 and nopar <= 20): # En esta versión, la terminación del bucle viene indicada en su propia condición.\n",
    "    print (nopar)\n",
    "    nopar = nopar + 2"
   ]
  },
  {
   "cell_type": "markdown",
   "metadata": {
    "id": "CVhcxZEPvOZO",
    "tags": []
   },
   "source": [
    "# Estructuras de datos en Python <a name=\"tipos\"></a>\n",
    "* Tuplas\n",
    "* Listas\n",
    "* Conjuntos\n",
    "* Diccionarios\n",
    "\n",
    "Información adicional:\n",
    "https://docs.python.org/3/tutorial/datastructures.html"
   ]
  },
  {
   "cell_type": "code",
   "execution_count": 7,
   "metadata": {
    "colab": {
     "base_uri": "https://localhost:8080/"
    },
    "executionInfo": {
     "elapsed": 56,
     "status": "ok",
     "timestamp": 1690547858664,
     "user": {
      "displayName": "Juan Pablo Hierro Alvarez",
      "userId": "16986139430696611049"
     },
     "user_tz": -120
    },
    "id": "3AZNMgwFvOZP",
    "outputId": "48a5122b-8a02-4256-d91f-67e347376bd5"
   },
   "outputs": [
    {
     "name": "stdout",
     "output_type": "stream",
     "text": [
      "Tuplas\n",
      "(1, 1, 3, 4, 6)\n",
      "(1, 1)\n",
      "(1, 1, 3, 4, 6)\n",
      "('hola', 2, 3)\n",
      "(('hola', 2, 3), 90)\n",
      "('e', 'j', 'e', 'm', 'p', 'l', 'o')\n"
     ]
    }
   ],
   "source": [
    "# Tuplas\n",
    "'''\n",
    "Una tupla es una secuencia inmutable y ordenada de elementos que pueden estar duplicados. Pueden ser de\n",
    "de cualquier tipo (básico o no). Se pueden indexar.\n",
    "Sintaxis para declarar una tupla: especificar los elementos separados por una coma (,)\n",
    "'''\n",
    "tupla_vacia = ( )\n",
    "tupla1 = 1, 1, 3, 4 , 6,\n",
    "tupla1b = (1 , 1 , 3 , 4 , 6)\n",
    "tupla2 = \"hola\" , 2 ,3\n",
    "tupla3 = tupla2 , 90\n",
    "tupla4 = tuple (\"ejemplo\")\n",
    "\n",
    "print(\"Tuplas\")\n",
    "print(tupla1)\n",
    "print(tupla1[0:2])\n",
    "print(tupla1b)\n",
    "print(tupla2)\n",
    "print(tupla3)\n",
    "print(tupla4)"
   ]
  },
  {
   "cell_type": "code",
   "execution_count": 8,
   "metadata": {
    "colab": {
     "base_uri": "https://localhost:8080/"
    },
    "executionInfo": {
     "elapsed": 49,
     "status": "ok",
     "timestamp": 1690547858664,
     "user": {
      "displayName": "Juan Pablo Hierro Alvarez",
      "userId": "16986139430696611049"
     },
     "user_tz": -120
    },
    "id": "TkR4Xst-vOZQ",
    "outputId": "b9234204-d2c0-4b22-93c7-69c45ff7ab2e"
   },
   "outputs": [
    {
     "name": "stdout",
     "output_type": "stream",
     "text": [
      "Listas\n",
      "[1, 1, 3, 4, 6]\n",
      "[1, 1]\n",
      "lista2= ['hola', 2, 3]\n",
      "['hola', 2, 3, 90]\n",
      "[['hola', 2, 3, 90], 10]\n",
      "['e', 'j', 'e', 'm', 'p', 'l', 'o']\n",
      "[1, 2, 3, 4, 6]\n",
      "Métodos para definir una lista, mediante una operación sobre otra. Ejemplo con el cuadrado de lista1.\n",
      "Comprensión de listas [1, 4, 9, 16, 36]\n",
      "Bucle for [1, 4, 9, 16, 36]\n",
      "Método funcional [1, 4, 9, 16, 36]\n"
     ]
    }
   ],
   "source": [
    "# Listas\n",
    "'''\n",
    "Una lista es una secuencia mutable y ordenada de elementos que pueden estar duplicados. Pueden ser de\n",
    "cualquier tipo (básico o no). Sus elementos\n",
    "se pueden modificar a diferencia de las tuplas. Se pueden indexar.\n",
    "Sintaxis para declarar una lista: los elementos de la lista se separan usando comas.\n",
    "Se especifica que es una lista cerrando el conjunto entre corchetes [,].\n",
    "'''\n",
    "lista_vacia = []\n",
    "lista1 = [1 ,1 ,3 ,4 ,6]\n",
    "lista2 = [\"hola\" , 2 ,3]\n",
    "lista3 = lista2+[90]\n",
    "lista3b = [lista3, 10]\n",
    "lista4 = list(\"ejemplo\")\n",
    "print(\"Listas\")\n",
    "print(lista1)\n",
    "print(lista1[0:2])\n",
    "print(\"lista2=\",lista2)\n",
    "print(lista3)\n",
    "print(lista3b)\n",
    "print(lista4)\n",
    "# Se cambia un valor. Con una tupla daría error.\n",
    "lista1[1] = 2\n",
    "print(lista1)\n",
    "# Se define una lista a partir de otra, operando sobre los elementos de la primera.\n",
    "#\n",
    "print(\"Métodos para definir una lista, mediante una operación sobre otra. Ejemplo con el cuadrado de lista1.\")\n",
    "# Forma compacta. Comprensión de listas.\n",
    "lista5 = [x*x for x in lista1]\n",
    "print(\"Comprensión de listas\", lista5)\n",
    "# Bucle for actuando mediante adicción de elementos a una lista inicialmente vacía.\n",
    "lista6=[]  # Lista vacía. Se obtendrá el mismo resultado que con lista5\n",
    "for x in lista1:\n",
    "  lista6.append(x*x) # Se le añaden elementos a lista6 en cada iteración del bucle.\n",
    "print(\"Bucle for\", lista6)\n",
    "# Método funcional. Se aplica (map) la función (lambda x: x*x en este caso) a cada elemento de lista1 \n",
    "# que pasa a ser el argumento x de lambda.\n",
    "# El resultado es una secuencia que se convierte a lista.\n",
    "lista7=list(map(lambda x: x*x, lista1)) # La función lambda es una función anónima introducida \n",
    "                                        # en las reglas del cálculo matemático formal.\n",
    "print(\"Método funcional\", lista7)"
   ]
  },
  {
   "cell_type": "code",
   "execution_count": 9,
   "metadata": {
    "colab": {
     "base_uri": "https://localhost:8080/"
    },
    "executionInfo": {
     "elapsed": 43,
     "status": "ok",
     "timestamp": 1690547858665,
     "user": {
      "displayName": "Juan Pablo Hierro Alvarez",
      "userId": "16986139430696611049"
     },
     "user_tz": -120
    },
    "id": "F160oQF3vOZR",
    "outputId": "d5a2a696-cdc3-4f10-fc03-3230003f66d1"
   },
   "outputs": [
    {
     "name": "stdout",
     "output_type": "stream",
     "text": [
      "Conjuntos\n",
      "{1, 3, 4, 6}\n",
      "{1, 3, 4, 6}\n",
      "{2, 3, 'hola'}\n",
      "{'este', 'ejemplo'}\n",
      "{'e', 'l', 'p', 'j', 'm', 'o'}\n",
      "{'e', 'l', 't', 'p', 'm', 'o'}\n",
      "Conjunto - Intersección con otro conjunto {'j'}\n",
      "Unión {'e', 'l', 't', 'p', 'j', 'm', 'o'}\n",
      "Intersección {'e', 'l', 'p', 'm', 'o'}\n",
      "Unión - Intersección {'t', 'j'}\n",
      "Eliminar j de conjunto4 {'e', 'l', 'p', 'm', 'o'}\n",
      "Añadir s a conjunto4 {'e', 'l', 's', 'p', 'm', 'o'}\n"
     ]
    }
   ],
   "source": [
    "# Conjuntos\n",
    "'''\n",
    "Un conjunto es una secuencia inmutable y desordenada de elementos que no se pueden repetir. Pueden ser de\n",
    "de cualquier tipo (básico o no). No se pueden indexar. Aunque no se pueden modificar sus elementos, sí que\n",
    "se pueden añadir y eliminar.\n",
    "Sintaxis para declarar un conjunto: especificar los elementos separados por una coma y encerrados por llaves {,}.\n",
    "'''\n",
    "conjunto_vacio = set() # Atención al diccionario vacío\n",
    "conjunto1 = {1, 1, 3, 4 ,6}\n",
    "conjunto1b = {1 , 3 , 4 , 6}\n",
    "conjunto2 = {\"hola\" , 2 ,3}\n",
    "conjunto3 = set((\"ejemplo\", \"este\"))\n",
    "conjunto4 = set(\"ejemplo\")\n",
    "conjunto5 = set(\"templo\")\n",
    "\n",
    "print(\"Conjuntos\")\n",
    "print(conjunto1)\n",
    "print(conjunto1b)\n",
    "print(conjunto2)\n",
    "print(conjunto3)\n",
    "print(conjunto4)\n",
    "print(conjunto5)\n",
    "print(\"Conjunto - Intersección con otro conjunto\", conjunto4 - conjunto5) # Elmentos que pertenecen a conjunto4 pero no a conjunto5.\n",
    "print(\"Unión\", conjunto4 | conjunto5) # Unión de conjunto4 y conjunto5.\n",
    "print(\"Intersección\", conjunto4 & conjunto5) # Intersección de conjunto4 y conjunto5.\n",
    "print(\"Unión - Intersección\", conjunto4 ^ conjunto5) # Unión de conjunto4 y conjunto5 menos su intersección.\n",
    "conjunto4.remove('j')\n",
    "print(\"Eliminar j de conjunto4\", conjunto4)\n",
    "conjunto4.add('s')\n",
    "print(\"Añadir s a conjunto4\", conjunto4)"
   ]
  },
  {
   "cell_type": "code",
   "execution_count": 10,
   "metadata": {
    "colab": {
     "base_uri": "https://localhost:8080/"
    },
    "executionInfo": {
     "elapsed": 38,
     "status": "ok",
     "timestamp": 1690547858666,
     "user": {
      "displayName": "Juan Pablo Hierro Alvarez",
      "userId": "16986139430696611049"
     },
     "user_tz": -120
    },
    "id": "nMFMMMRyvOZR",
    "outputId": "690d5af3-a7d6-4a95-ab59-5367d61db8fe"
   },
   "outputs": [
    {
     "name": "stdout",
     "output_type": "stream",
     "text": [
      "Diccionarios\n",
      "{'rojo': 'red', 'negro': 'black', 'azul': 'blue'}\n",
      "{'rojo': 'red', 'negro': 'black', 'azul': 'blue'}\n",
      "{'rojo': 'red', 'negro': 'black', 'azul': 'blue'}\n",
      "Negro en inglés se dice  black\n",
      "{'rojo': 'rouge', 'negro': 'noir', 'azul': 'bleu'}\n",
      "Negro en francés se dice  noir\n",
      "Se ha añadido la clave amarillo.  {'rojo': 'rouge', 'negro': 'noir', 'azul': 'bleu', 'amarillo': 'jaune'}\n",
      "Se ha eliminado la clave rojo.  {'negro': 'noir', 'azul': 'bleu', 'amarillo': 'jaune'}\n",
      "Diccionario anidado.  {'cuerpos': {'j': 'jurídico', 's': 'sanidad', 'i': 'intervencion', 'm': 'música', 'e': 'eclesiástico'}, 'armas': {'if': 'infantería', 'cb': 'caballería', 'ar': 'artillería', 'ig': 'ingenieros', 'tr': 'transmisiones', 'av': 'aviet'}}\n",
      "intervencion\n"
     ]
    }
   ],
   "source": [
    "# Diccionarios\n",
    "'''\n",
    "Un diccionario es una secuencia de pares de elementos (el primero de cada par se llama clave y el segundo valor) ordenada,\n",
    "en la que los valores se pueden modificar pero las claves no y que no admiten repeticiones de las claves. Las claves funcionan\n",
    "como índices de los valores y pueden ser añadidas o eliminadas junto con su respectivo valor.\n",
    "Sintaxis para declarar un diccionario: los elementos de cada par van separados entre sí por : mientras que los distintos pares van\n",
    "separados por comas y encerrados entre llaves {:, :, :}\n",
    "'''\n",
    "diccionario_vacio={} # Atención que no sirve para declarar el conjunto vacío.\n",
    "diccionario1={'rojo':'red', 'negro':'black', 'azul':'blue'}\n",
    "diccionario2={'rojo':'red', 'negro':'noir', 'negro':'black', 'azul':'blue'}\n",
    "diccionario3=dict(rojo = 'red', negro = 'black', azul = 'blue')\n",
    "diccionario4={'j':'jurídico','s':'sanidad','i':'intervencion','m':'música','e':'eclesiástico'}\n",
    "diccionario4b={'if':'infantería','cb':'caballería','ar':'artillería','ig':'ingenieros','tr':'transmisiones','av':'aviet'}\n",
    "diccionario5={'cuerpos':diccionario4, 'armas':diccionario4b} # Diccionarios anidaddos.\n",
    "\n",
    "print(\"Diccionarios\")\n",
    "print(diccionario1)\n",
    "print(diccionario2) # Con claves repetidas, sólo se toma el último valor que aparezca para una clave dada.\n",
    "print(diccionario3)\n",
    "print(\"Negro en inglés se dice \", diccionario1['negro'])\n",
    "diccionario1['rojo'] = 'rouge' # Cambio de los valores para cada clave.\n",
    "diccionario1['negro'] = 'noir'\n",
    "diccionario1['azul'] = 'bleu'\n",
    "print(diccionario1)\n",
    "print(\"Negro en francés se dice \", diccionario1['negro'])\n",
    "diccionario1['amarillo'] = 'jaune' # Adicción de un elemento a un diccionario.\n",
    "print(\"Se ha añadido la clave amarillo. \", diccionario1)\n",
    "diccionario1.pop('rojo') # Eliminación de un elemento de un diccionario.\n",
    "print(\"Se ha eliminado la clave rojo. \", diccionario1)\n",
    "print(\"Diccionario anidado. \", diccionario5)\n",
    "print(diccionario5[\"cuerpos\"][\"i\"])"
   ]
  },
  {
   "cell_type": "markdown",
   "metadata": {
    "id": "FLNQhFvPvOZT"
   },
   "source": [
    "# Funciones <a name=\"funciones\"></a>\n",
    "\n",
    "* Una función es un bloque de código que solamente se ejecuta cuando se invoca.\n",
    "* A una función se le pueden pasar datos, llamados parámetros o argumentos de la función, en forma de lista separada por comas dentro de un paréntesis tras el nombre de la función.\n",
    "* Una función puede retornar datos, llamados resultado.\n",
    "* Las variables que se definan dentro de una función toman valores locales que sólo dependen de lo que ocurra dentro de ella, aun cuando su nombre coincida con el de una variable externa a la función, ésta última no se ve afectada.\n",
    "* Si se emplea dentro de una función una variable que no esté definida dentro de ella, se busca asignarle valor a partir del que tenga una variable con el mismo nombre en el código externo a la función. Sin embargo, la variable externa no se ve afectada.\n",
    "* Si se quiere modificar una variable externa dentro de una función, hay que declararla dentro de ésta como 'global'.\n",
    "* Sintaxis: comienza con 'def', sigue con el 'nombre de la función', una lista entre paréntesis de los argumentos y ':' al final del paréntesis. El código que se ejecuta en la función está indentado y la función termina al terminar la indentación."
   ]
  },
  {
   "cell_type": "code",
   "execution_count": 11,
   "metadata": {
    "colab": {
     "base_uri": "https://localhost:8080/"
    },
    "executionInfo": {
     "elapsed": 33,
     "status": "ok",
     "timestamp": 1690547858667,
     "user": {
      "displayName": "Juan Pablo Hierro Alvarez",
      "userId": "16986139430696611049"
     },
     "user_tz": -120
    },
    "id": "lffS9VWcvOZU",
    "outputId": "eb938643-8a7a-4e73-af6b-42e11c259b4a"
   },
   "outputs": [
    {
     "name": "stdout",
     "output_type": "stream",
     "text": [
      "Ejemplo 1: funciones\n",
      "De los siguientes números  [-5, -4, -3, -2, -1, 0, 1, 2, 3, 4] se comprueba cuáles son negativos\n",
      "-5  es un número negativo.\n",
      "-4  es un número negativo.\n",
      "-3  es un número negativo.\n",
      "-2  es un número negativo.\n",
      "-1  es un número negativo.\n",
      "\n",
      "Ejemplo 2: funciones\n",
      "Polinomio de grado n=2\n",
      " y coeficientes [$a_0,a_{1},..,a_{n-1},a_n$]=[1.0, 1.0, 1.0], en x=2.0 tiene un valor igual a =7.0\n",
      "\n",
      "Ejemplo 3: funciones\n",
      "Para la condición inicial (y0,v0)=( 100.0 m, 50.0 m/s)\n",
      "La altura para un cuerpo en caída libre en t= 5 (s), será de 227.5 m\n",
      "\n",
      "Ejemplo 4: funciones\n",
      "Variable a definida externamente:  3\n",
      "Variable a definida internamente:  2\n",
      "El doble de 5.0 es 10.0\n",
      "Tras ejecutar la función, a vale:  3\n",
      "\n",
      "Variable a no está definida dentro de la función, vale:  3\n",
      "El triple de 5.0 es 15.0\n",
      "Tras ejecutar la función, a vale:  3\n",
      "\n",
      "Variable a global:  4\n",
      "El cuadruple de 5.0 es 20.0\n",
      "Tras ejecutar la función, a vale:  4\n"
     ]
    }
   ],
   "source": [
    "# Funciones\n",
    "'''\n",
    "Ejemplo: encapsulamos parte del código de los ejemplos previos en una función\n",
    "'''\n",
    "print(\"Ejemplo 1: funciones\")\n",
    "\n",
    "def isnegative(x): # Nótense los :\n",
    "    if(a<0.0): #Los paréntesis no son necesarios\n",
    "       print(a,\" es un número negativo.\")\n",
    "\n",
    "rango=list(range(-5,5)) # La definición de 'isnegative' ha terminado antes de ejecutar esta línea.\n",
    "print(\"De los siguientes números \",rango,\"se comprueba cuáles son negativos\")\n",
    "for a in range(-5,5):\n",
    "   isnegative(a)\n",
    "\n",
    "\n",
    "'''\n",
    "Ejemplo: cálculo de un polinomio de grado n\n",
    "'''\n",
    "print(\"\")\n",
    "print(\"Ejemplo 2: funciones\")\n",
    "\n",
    "def polinomio(x,a):\n",
    "    result=0\n",
    "    n=len(a)-1\n",
    "    i=0\n",
    "    for factor in a:\n",
    "         result=result+factor*x**i\n",
    "         i=i+1\n",
    "    return result\n",
    "\n",
    "a=[1.0,1.0,1.0] # a_0*x**(0)+a_1*x**(1)+...a_n*x**n, donde n=len(a)\n",
    "x=2.0\n",
    "pol_x=polinomio(x,a)\n",
    "txt=\"Polinomio de grado n=\"+str(len(a)-1)+\"\\n y coeficientes [$a_0,a_{1},..,a_{n-1},a_n$]=\"+str(a)\n",
    "txt=txt+\", en x=\"+str(x)+\" tiene un valor igual a =\"+str(pol_x)\n",
    "print(txt)\n",
    "\n",
    "'''\n",
    "Ejemplo: cuerpo caída libre\n",
    "'''\n",
    "print(\"\")\n",
    "print(\"Ejemplo 3: funciones\")\n",
    "def y_t(t,y0,v0):\n",
    "    g=9.8\n",
    "    return y0+v0*t-0.5*g*t**2\n",
    "y0=100.0 #m\n",
    "v0= 50.0 #m/s\n",
    "t = 5 #s\n",
    "print(\"Para la condición inicial (y0,v0)=(\",y0,\"m,\",v0,\"m/s)\")\n",
    "print(\"La altura para un cuerpo en caída libre en t=\",t,'(s), será de',y_t(t,y0,v0), 'm')\n",
    "\n",
    "'''\n",
    "Ejemplo: duplicar un valor\n",
    "'''\n",
    "print(\"\")\n",
    "print(\"Ejemplo 4: funciones\")\n",
    "a=3\n",
    "print('Variable a definida externamente: ', a)\n",
    "\n",
    "def duplica(x):\n",
    "    a=2 # Variable a definida para su uso dentro de 'duplica'\n",
    "    result=a*x\n",
    "    print('Variable a definida internamente: ', a)\n",
    "    return result\n",
    "\n",
    "x=5.0\n",
    "y=duplica(x)\n",
    "print(\"El doble de\", x, \"es\", y)\n",
    "print(\"Tras ejecutar la función, a vale: \", a)\n",
    "\n",
    "print(\"\")\n",
    "\n",
    "def triplica(x):\n",
    "    result=a*x\n",
    "    print('Variable a no está definida dentro de la función, vale: ', a)\n",
    "    return result\n",
    "\n",
    "y=triplica(x)\n",
    "print(\"El triple de\", x, \"es\", y)\n",
    "print(\"Tras ejecutar la función, a vale: \", a)\n",
    "\n",
    "print(\"\")\n",
    "\n",
    "def cuadruplica(x):\n",
    "    global a\n",
    "    a=4\n",
    "    print('Variable a global: ', a)\n",
    "    result=a*x\n",
    "    return result\n",
    "\n",
    "y=cuadruplica(x)\n",
    "print(\"El cuadruple de\", x, \"es\", y)\n",
    "print(\"Tras ejecutar la función, a vale: \", a)\n"
   ]
  },
  {
   "cell_type": "markdown",
   "metadata": {
    "id": "QfKfQlYsvOZX"
   },
   "source": [
    "# Bibliotecas <a name=\"bibliotecas\"></a>\n",
    "\n",
    "&emsp; Son conjuntos de funciones que permiten desarrollar una serie de tareas específicas sin necesidad de que el usuario las tenga que programar por su cuenta."
   ]
  },
  {
   "cell_type": "markdown",
   "metadata": {
    "id": "hVQexBSHvOZZ"
   },
   "source": [
    "## Numpy <a name=\"numpy\"></a>\n",
    "\n",
    "* Permite operar con vectores/matrices computacionales. Se trata de una estructura de datos que, en otros lenguajes es básica pero no en Python y que se podría considerar como una lista en la que el acceso directo a través del índice es especialmente rápido; pero en la que resulta costoso, en términos computacionales, añadir y suprimir elementos una vez creada. \n",
    "\n",
    "https://numpy.org/doc/stable/user/whatisnumpy.html"
   ]
  },
  {
   "cell_type": "code",
   "execution_count": 12,
   "metadata": {
    "colab": {
     "base_uri": "https://localhost:8080/"
    },
    "executionInfo": {
     "elapsed": 28,
     "status": "ok",
     "timestamp": 1690547858668,
     "user": {
      "displayName": "Juan Pablo Hierro Alvarez",
      "userId": "16986139430696611049"
     },
     "user_tz": -120
    },
    "id": "VnSaNZTsvOZa",
    "outputId": "903441c3-b0d5-49da-a361-a4cc3b4db85f"
   },
   "outputs": [
    {
     "name": "stdout",
     "output_type": "stream",
     "text": [
      "\n",
      " Ejemplo 1: Ejemplos básicos\n",
      "Dimensión= 2 Shape= (3, 4) Tipo= int64\n",
      "[[1 2 3 4]\n",
      " [1 2 3 4]\n",
      " [1 2 3 4]]\n",
      "[[0. 0. 0. 0.]\n",
      " [0. 0. 0. 0.]\n",
      " [0. 0. 0. 0.]]\n",
      "[[1. 0. 0.]\n",
      " [0. 1. 0.]\n",
      " [0. 0. 1.]]\n",
      "\n",
      " Ejemplo 2: operaciones con vectores de tipo element-wise \n",
      "[ 0.   0.5  1.   1.5  2.   2.5  3.   3.5  4.   4.5  5.   5.5  6.   6.5\n",
      "  7.   7.5  8.   8.5  9.   9.5 10. ]\n",
      "[ 100.     101.275  100.1     96.475   90.4     81.875   70.9     57.475\n",
      "   41.6     23.275    2.5    -20.725  -46.4    -74.525 -105.1   -138.125\n",
      " -173.6   -211.525 -251.9   -294.725 -340.   ]\n"
     ]
    }
   ],
   "source": [
    "import numpy as np # numpy es la biblioteca con la que crear y operar con vectores/matrices y en general \"tensores\"\n",
    "\n",
    "'''\n",
    "Ejemplos básicos\n",
    "'''\n",
    "print(\"\\n Ejemplo 1: Ejemplos básicos\")\n",
    "x=np.array([[1,2,3,4],[1,2,3,4],[1,2,3,4]])\n",
    "print(\"Dimensión=\",x.ndim,\"Shape=\",x.shape,\"Tipo=\",x.dtype)\n",
    "print(x)\n",
    "y=np.zeros(x.shape) # Crear una matriz con las mismas características que otra y rellenarla de ceros\n",
    "print(y)\n",
    "z=np.identity(3) # Crea una matriz identidad nxn. En el ejemplo n=3\n",
    "print(z)\n",
    "\n",
    "'''\n",
    "Ejemplos : operaciones con vectores de tipo element-wise\n",
    "'''\n",
    "print(\"\\n Ejemplo 2: operaciones con vectores de tipo element-wise \")\n",
    "tmin,tmax= 0.0,10.0 #s\n",
    "nopto=21\n",
    "t=np.linspace(tmin,tmax,nopto) #Se define un vector de dimensión (nopto,), con valores en el intervalo [tmin,tmax]\n",
    "y=np.array(t) # copia el vector, matriz, en general tensor t. Sirve para crear un vector y con las mismas dimensiones y valores que t, luego se podrá reescribir.\n",
    "\n",
    "def y_t(t,y0,v0):\n",
    "    g=9.8\n",
    "    return y0+v0*t-0.5*g*t**2\n",
    "\n",
    "y0=100.0 #m\n",
    "v0= 5.0 #m/s\n",
    "\n",
    "'''\n",
    "Python permite cálculos \"element-wise\": un cálculo elemento a elemento de un vector.\n",
    "No hay problema en sustituir en una función lo que\n",
    "en principio son escalares (el tiempo t), por un vector/matriz/.... De la misma forma,\n",
    "el resultado de la función que en principio es un escalar, puede devolver un vector/matriz/...\n",
    "'''\n",
    "y=y_t(t,y0,v0)\n",
    "print(t)\n",
    "print(y)"
   ]
  },
  {
   "cell_type": "markdown",
   "metadata": {
    "id": "P_92_vMjvOZa"
   },
   "source": [
    "## Matplotlib <a name=\"matplotlib\"></a>\n",
    "\n",
    "* Es un paquete que sirve para elaborar gráficas.\n",
    "\n",
    "https://matplotlib.org/stable/index.html"
   ]
  },
  {
   "cell_type": "code",
   "execution_count": 18,
   "metadata": {
    "colab": {
     "base_uri": "https://localhost:8080/",
     "height": 1000
    },
    "executionInfo": {
     "elapsed": 1040,
     "status": "ok",
     "timestamp": 1690571100102,
     "user": {
      "displayName": "Juan Pablo Hierro Alvarez",
      "userId": "16986139430696611049"
     },
     "user_tz": -120
    },
    "id": "5HtVtPrPvOZb",
    "outputId": "53e462f0-00d7-4f96-e6a2-cca2091a3df1"
   },
   "outputs": [
    {
     "name": "stdout",
     "output_type": "stream",
     "text": [
      "\n",
      " Ejemplo 1: cuerpo en caída libre\n",
      "Para la condición inicial (y0,v0)=( 100.0 m, 5.0 m/s)\n"
     ]
    },
    {
     "data": {
      "image/png": "[encoded data removed]",
      "text/plain": [
       "<Figure size 500x500 with 1 Axes>"
      ]
     },
     "metadata": {},
     "output_type": "display_data"
    },
    {
     "name": "stdout",
     "output_type": "stream",
     "text": [
      "\n",
      " Ejemplo 2: representación de un polinomio\n",
      "Polinomio de grado n=3 y coeficientes [a_0,a_1,...,a_n]=[20.0, -4.0, -0.4, 0.1]\n"
     ]
    },
    {
     "data": {
      "image/png": "[encoded data removed]",
      "text/plain": [
       "<Figure size 800x800 with 1 Axes>"
      ]
     },
     "metadata": {},
     "output_type": "display_data"
    }
   ],
   "source": [
    "'''\n",
    "Ejemplo 1: representación gráfica de una función\n",
    "'''\n",
    "print(\"\\n Ejemplo 1: cuerpo en caída libre\")\n",
    "\n",
    "import numpy as np\n",
    "\n",
    "tmin,tmax= 0.0,10.0 #s\n",
    "nopto=101\n",
    "t=np.linspace(tmin,tmax,nopto) #Se define un vector de dimensión (nopto,), con valores en el intervalo [tmin,tmax]\n",
    "y=np.array(t) # copia el vector, matriz, en general tensor t.\n",
    "\n",
    "g=9.80665 # Estándar para la Tierra. Calculada a una latitud de 45º.\n",
    "\n",
    "def y_t(t,y0,v0):\n",
    "    return y0+v0*t-0.5*g*t**2\n",
    "\n",
    "y0=100.0 #m\n",
    "v0= 5.0 #m/s\n",
    "y=y_t(t,y0,v0)\n",
    "\n",
    "g=1.625 # Estándar para la Luna.\n",
    "y2=y_t(t,y0,v0)\n",
    "\n",
    "g=3.72076 # Estándar para Marte.\n",
    "y3=y_t(t,y0,v0)\n",
    "\n",
    "print(\"Para la condición inicial (y0,v0)=(\",y0,\"m,\",v0,\"m/s)\")\n",
    "\n",
    "'''\n",
    "Elementos esenciales en una representación gráfica\n",
    "'''\n",
    "# Se llama a las bibliotecas necesarias\n",
    "import matplotlib.pyplot as plt\n",
    "import numpy as np\n",
    "\n",
    "txt=\"Tierra\"\n",
    "txt2=\"Luna\"\n",
    "txt3=\"Marte\"\n",
    "\n",
    "fig,ax = plt.subplots(figsize=(5,5))\n",
    "ax.grid()\n",
    "ax.plot(t,y, color=\"blue\", linewidth=1,linestyle='-',marker=\".\",markersize=4, markevery=5, label=txt)\n",
    "ax.plot(t,y2, color='green', linewidth=1,linestyle='-',marker=\"v\",markersize=4, markevery=5, label=txt2)\n",
    "ax.plot(t,y3, color='red', linewidth=1,linestyle='-',marker=\"+\",markersize=4, markevery=5, label=txt3)\n",
    "ax.set_ylabel(\"y(m)\")\n",
    "ax.set_xlabel(\"t(s)\")\n",
    "ax.set_title(\"Caída libre y(t)\")\n",
    "ax.legend()\n",
    "plt.show()\n",
    "\n",
    "'''\n",
    "Ejemplo 2: representación gráfica de una función\n",
    "'''\n",
    "print(\"\\n Ejemplo 2: representación de un polinomio\")\n",
    "#\n",
    "# El polinomio es b_0 + b_1*x + b_2*x**2 + ... + b_n*x**n\n",
    "# Se tiene una lista de (n+1) parámetros en b y un valor de la abscisa en x.\n",
    "#\n",
    "# Versión imperativa.\n",
    "#\n",
    "def polinomio(x,b):\n",
    "    resultado = 0.0\n",
    "    n=len(b)-1\n",
    "    i=0\n",
    "    for factor in b:\n",
    "        resultado = resultado + factor*x**i\n",
    "        i=i+1\n",
    "    return resultado\n",
    "#\n",
    "# Versión recursiva terminal.\n",
    "#\n",
    "def polinomio_2(x,b):\n",
    "    n=len(b)-1\n",
    "    return polinomio_rt(b[n], x, b, n)\n",
    "    \n",
    "# Función auxiliar recursiva terminal.        \n",
    "def polinomio_rt(r,x,b,p):\n",
    "    if (p == 0):\n",
    "        return r\n",
    "    else:\n",
    "        return polinomio_rt(b[p-1] + r*x, x, b, p-1)\n",
    "\n",
    "# Se llaman las bibliotecas necesarias.\n",
    "import matplotlib.pyplot as plt\n",
    "import numpy as np\n",
    "\n",
    "# Se definen los coeficientes del polinomio, se emplearán como variable de entorno\n",
    "a=[20.0,-4.0,-0.4,0.1] # a_0 + a_1*x + a_2*x**2 + ... + a_n*x**n, donde n=len(a)-1\n",
    "txt=\"Polinomio de grado n=\"+str(len(a)-1)+\" y coeficientes \"\n",
    "txtl=txt+\"[a_0,a_1,...,a_n]=\"+str(a)\n",
    "print(txtl)\n",
    "xmin,xmax,nopto=-10.0,10.0,101 # Límites del intervalo donde se define el polinomio y número de muestras\n",
    "'''\n",
    "Para cada valor asignado al vector x mediante el método np.linspace,\n",
    "la función polinomio calcula su valor de modo imperativo.\n",
    "'''\n",
    "x=np.linspace(xmin,xmax,nopto) # Se define un vector de dimensión (nopto,), con valores en el intervalo [xmin,xmax]\n",
    "y1=[polinomio(z,a) for z in x] # a se lee del entorno, z representa cada valor de x\n",
    "'''\n",
    "La forma equivalente utilizando una versión recursiva terminal de la función polinomio.\n",
    "'''\n",
    "y2=[polinomio_2(z,a) for z in x] # a se lee del entorno, z representa cada valor de x\n",
    "'''\n",
    "Elementos esenciales en una representación gráfica\n",
    "'''\n",
    "fig,ax = plt.subplots(figsize=(8,8))\n",
    "ax.grid()\n",
    "ax.plot(x,y1, color=\"blue\", linewidth=1,linestyle='--',marker=\".\",markersize=6,label=\"Imperativo.\")\n",
    "ax.plot(x,y2, color=\"red\", linewidth=1,linestyle='-',label=\"Recursivo terminal.\")\n",
    "ax.set_title(\"$a_0+a_{1} x+...+a_{n-1} x^{n-1}+a_n x^n$\")\n",
    "ax.set_ylabel(\"y\")\n",
    "ax.set_xlabel(\"x\")\n",
    "ax.legend()\n",
    "plt.show()"
   ]
  }
 ],
 "metadata": {
  "colab": {
   "provenance": []
  },
  "kernelspec": {
   "display_name": "Python 3 (ipykernel)",
   "language": "python",
   "name": "python3"
  },
  "language_info": {
   "codemirror_mode": {
    "name": "ipython",
    "version": 3
   },
   "file_extension": ".py",
   "mimetype": "text/x-python",
   "name": "python",
   "nbconvert_exporter": "python",
   "pygments_lexer": "ipython3",
   "version": "3.9.2"
  }
 },
 "nbformat": 4,
 "nbformat_minor": 4
}
